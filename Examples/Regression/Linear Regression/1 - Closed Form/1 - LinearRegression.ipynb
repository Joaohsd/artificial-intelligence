{
 "cells": [
  {
   "cell_type": "markdown",
   "id": "fd9d41ad",
   "metadata": {},
   "source": [
    "<b>\n",
    "    <h1 align=\"center\" style=\"color:red\">Linear Regression</h1>\n",
    "</b>"
   ]
  },
  {
   "cell_type": "code",
   "execution_count": 56,
   "id": "3f3d8d53",
   "metadata": {},
   "outputs": [],
   "source": [
    "# Import libraries to help the process\n",
    "import numpy as np\n",
    "import matplotlib.pyplot as plt\n",
    "\n",
    "# Import the Linear regression module from scikit-learn library\n",
    "from sklearn.linear_model import LinearRegression"
   ]
  },
  {
   "cell_type": "code",
   "execution_count": 57,
   "id": "b45f51ca",
   "metadata": {},
   "outputs": [],
   "source": [
    "# Reset the random to generate always the same evalues\n",
    "np.random.seed(1234)"
   ]
  },
  {
   "cell_type": "code",
   "execution_count": 58,
   "id": "5cd11c90",
   "metadata": {},
   "outputs": [],
   "source": [
    "# Generate input/output (features/labels) values\n",
    "N = 100   # Number of observations done\n",
    "\n",
    "# True function\n",
    "x = 2.0 * np.random.rand(N, 1) # Generate values between 0 and 2 (That's why 2.0 is used in multiplication)\n",
    "y = 4.0 + 3.0 * x\n",
    "\n",
    "# Function with noisy (Observable function)\n",
    "y_noisy = y + np.random.randn(N,1)"
   ]
  },
  {
   "cell_type": "code",
   "execution_count": 59,
   "id": "9f58388f",
   "metadata": {
    "scrolled": true
   },
   "outputs": [
    {
     "data": {
      "image/png": "[encoded data removed]",
      "text/plain": [
       "<matplotlib.figure.Figure at 0x7f7ceadcb630>"
      ]
     },
     "metadata": {
      "needs_background": "light"
     },
     "output_type": "display_data"
    }
   ],
   "source": [
    "# Plot pair example/label for each function\n",
    "plt.figure(figsize=(5,5))\n",
    "plt.plot(x, y_noisy, '.', label = \"Noisy Function\")\n",
    "plt.plot(x, y, '.', label = \"True Function\")\n",
    "plt.xlabel('x')\n",
    "plt.ylabel('y')\n",
    "plt.grid()\n",
    "plt.legend()\n",
    "plt.show()"
   ]
  },
  {
   "cell_type": "markdown",
   "id": "1f2941c0",
   "metadata": {},
   "source": [
    "<b>\n",
    "    <h2 align=\"center\" style=\"color:red\">Manual Solution</h2>\n",
    "</b>"
   ]
  },
  {
   "cell_type": "code",
   "execution_count": 60,
   "id": "4a4aefb7",
   "metadata": {},
   "outputs": [
    {
     "name": "stdout",
     "output_type": "stream",
     "text": [
      "(2, 1)\n",
      "a0: 4.0763\n",
      "a1: 2.9413\n"
     ]
    }
   ],
   "source": [
    "# Join two vector vector to add x0 element\n",
    "X_b = np.c_[np.ones((N, 1)), x]\n",
    "\n",
    "# Solve by applying the Least-Squares method\n",
    "a_optimum = np.linalg.inv(X_b.T.dot(X_b)).dot(X_b.T).dot(y_noisy)\n",
    "\n",
    "# In this case, we will have two coefficients as solution to this problem\n",
    "print(a_optimum.shape)\n",
    "\n",
    "# Printing values of coefficients (best solution for 100 observations (N))\n",
    "print('a0: %.4f' % (a_optimum[0][0]))\n",
    "print('a1: %.4f' % (a_optimum[1][0]))"
   ]
  },
  {
   "cell_type": "markdown",
   "id": "ce6f92da",
   "metadata": {},
   "source": [
    "<b>\n",
    "    <h3>Mean Squared Error</h3>\n",
    "</b>"
   ]
  },
  {
   "cell_type": "code",
   "execution_count": 61,
   "id": "7e853bb7",
   "metadata": {},
   "outputs": [
    {
     "name": "stdout",
     "output_type": "stream",
     "text": [
      "MSE: 0.9273\n"
     ]
    }
   ],
   "source": [
    "# Calculating ŷ values based on estimated model, multiplying attributes matrix by the coefficients\n",
    "yhat = X_b.dot(a_optimum)\n",
    "\n",
    "# Calculating the mean-squared error\n",
    "Je_optimum = (1.0/N)*np.sum(np.power((y_noisy - yhat), 2))\n",
    "\n",
    "# Showing the minimum MSE value\n",
    "print('MSE: %.4f' % (Je_optimum))"
   ]
  },
  {
   "cell_type": "markdown",
   "id": "8d68ccf3",
   "metadata": {},
   "source": [
    "<b>\n",
    "    <h2 align=\"center\" style=\"color:red\">Scikit-learn's Solution</h2>\n",
    "</b>"
   ]
  },
  {
   "cell_type": "code",
   "execution_count": 62,
   "id": "ee844805",
   "metadata": {},
   "outputs": [
    {
     "name": "stdout",
     "output_type": "stream",
     "text": [
      "a0: 4.0763\n",
      "a1: 2.9413\n"
     ]
    }
   ],
   "source": [
    "# Linear Regression instantiate\n",
    "lin_reg = LinearRegression()\n",
    "\n",
    "# Training the model\n",
    "# The fit method already add the linear bias column (a0)\n",
    "lin_reg.fit(x, y_noisy)\n",
    "\n",
    "# Printing values of coefficients\n",
    "print('a0: %.4f' % (lin_reg.intercept_[0]))\n",
    "print('a1: %.4f' % (lin_reg.coef_[0][0]))"
   ]
  },
  {
   "cell_type": "code",
   "execution_count": 63,
   "id": "2c169422",
   "metadata": {},
   "outputs": [],
   "source": [
    "# myModel function\n",
    "def myModel(x):\n",
    "    return x*slope + intercept"
   ]
  },
  {
   "cell_type": "code",
   "execution_count": 64,
   "id": "b9b96e81",
   "metadata": {},
   "outputs": [],
   "source": [
    "# Getting the coeficients\n",
    "slope = lin_reg.coef_[0][0]\n",
    "intercept = lin_reg.intercept_[0]\n",
    "\n",
    "a_sklearn = np.zeros((2,1))\n",
    "a_sklearn[0][0] = intercept\n",
    "a_sklearn[1][0] = slope"
   ]
  },
  {
   "cell_type": "code",
   "execution_count": 65,
   "id": "6b09b8d7",
   "metadata": {},
   "outputs": [
    {
     "name": "stdout",
     "output_type": "stream",
     "text": [
      "MSE: 0.9273\n"
     ]
    }
   ],
   "source": [
    "# Calculating ŷ values based on estimated model, multiplying attributes matrix by the coefficients\n",
    "yhat = X_b.dot(a_sklearn)\n",
    "\n",
    "# Calculating the mean-squared error\n",
    "Je_sklearn = (1.0/N)*np.sum(np.power((y_noisy - yhat), 2))\n",
    "\n",
    "# Showing the minimum MSE value\n",
    "print('MSE: %.4f' % (Je_sklearn))"
   ]
  },
  {
   "cell_type": "code",
   "execution_count": 66,
   "id": "a0142238",
   "metadata": {},
   "outputs": [],
   "source": [
    "# Getting predict values\n",
    "myModel = myModel(x)"
   ]
  },
  {
   "cell_type": "code",
   "execution_count": 67,
   "id": "b2d32741",
   "metadata": {},
   "outputs": [
    {
     "data": {
      "image/png": "[encoded data removed]",
      "text/plain": [
       "<matplotlib.figure.Figure at 0x7f7ceac5cf98>"
      ]
     },
     "metadata": {
      "needs_background": "light"
     },
     "output_type": "display_data"
    }
   ],
   "source": [
    "# Plot pair myModel and true function\n",
    "plt.plot(x, y, '.', label = \"True Function\")\n",
    "plt.plot(x, y_noisy, '.', label = \"Noisy Function\")\n",
    "plt.plot(x, X_b.dot(a_optimum), 'rx', label = \"Normal equation\")\n",
    "plt.plot(x, X_b.dot(a_sklearn), 'k--', label = \"Sckit-learn Function\")\n",
    "plt.xlabel('x')\n",
    "plt.ylabel('y')\n",
    "plt.grid()\n",
    "plt.legend()\n",
    "plt.show()"
   ]
  }
 ],
 "metadata": {
  "kernelspec": {
   "display_name": "Python 3 (ipykernel)",
   "language": "python",
   "name": "python3"
  },
  "language_info": {
   "codemirror_mode": {
    "name": "ipython",
    "version": 3
   },
   "file_extension": ".py",
   "mimetype": "text/x-python",
   "name": "python",
   "nbconvert_exporter": "python",
   "pygments_lexer": "ipython3",
   "version": "3.8.10"
  }
 },
 "nbformat": 4,
 "nbformat_minor": 5
}
