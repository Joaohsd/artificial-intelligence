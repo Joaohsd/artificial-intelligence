{
 "cells": [
  {
   "cell_type": "markdown",
   "metadata": {},
   "source": [
    "# The Bias-Variance Tradeoff\n",
    "\n",
    "Let $y_{noisy}$ be the observable function and $\\hat{y}$ be the hypothesis function. If the number of samples, $N$, considered in calculating the prediction error for a set of unpublished examples (also called the generalization error) tends to infinity, then the error can be approximated as the expected squared error:\n",
    "\n",
    "$$\\text{MSE}_{N \\to \\infty} = \\lim_{N \\to \\infty} \\frac{1}{N} \\sum_{n=0}^{N-1} (y_{noisy } - \\hat{y})^2\n",
    "%\n",
    "\\\\ = E[(y_{noisy} - \\hat{y})^2].\n",
    "$$\n",
    "\n",
    "Remembering that $y_{noisy} = y + w$, so\n",
    "$$E[(y_{noisy} - \\hat{y})^2] = E[(y + w - \\hat{y})^2].$$\n",
    "\n",
    "Expanding the above equation and grouping some terms, we have\n",
    "\n",
    "$$ E[ (y - \\hat{y})^2 + 2 w (y - \\hat{y}) + w^2 ].$$\n",
    "\n",
    "Since $w$ is Gaussian white noise, then $E[w] = 0$, and thus the above equation can be simplified to\n",
    "\n",
    "$$E[ (y - \\hat{y})^2 + w^2 ] \\\\= E[ (y - \\hat{y})^2 ] + E[ w^2 ],$$\n",
    "\n",
    "where the first term is the **reducible error** and the second term the **irreducible error**, the one due to noise that we cannot reduce.\n",
    "\n",
    "We were able to expand the first term and separate the terms referring to **variance** and **bias** of this estimator. Assuming that the values ​​of $y$ are non-random (i.e., deterministic), we can rewrite the second term as\n",
    "\n",
    "$$E[ (y - \\hat{y})^2 ] = y^2 -2 y E[\\hat{y}] + E[\\hat{y}^2].$$\n",
    "\n",
    "The last term of the above equation can be rewritten as $E[\\hat{y}^2] = \\text{var}(\\hat{y}) + E[\\hat{y}]^2$, and , then we have\n",
    "\n",
    "$$E[ (y - \\hat{y})^2 ] = (y - E[\\hat{y}])^2 + (E[\\hat{y}^2]-E[\\hat{y }]^2) \\\\= \\text{bias}(\\hat{y})^2 + \\text{var}(\\hat{y}).$$\n",
    "\n",
    "The first term of the above equation gives us the **bias** value squared, while the second term gives us the **variance** of the estimator.\n",
    "\n",
    "Therefore, we can rewrite the squared error expectation equation as\n",
    "\n",
    "$$E[(y_{noisy} - \\hat{y})^2] = \\text{bias}(\\hat{y})^2 + \\text{var}(\\hat{y}) + E[ w^2 ].$$\n",
    "\n",
    "The first two terms are always positive, so $E[(y_{noisy} - \\hat{y})^2]$ will never equal zero if $E[ w^2 ] \\neq 0$.\n",
    "\n",
    "If the noise, $w$, has a mean of zero, then $E[ w^2 ]=\\text{var}(w)$.\n",
    "\n",
    "We can also see that to minimize the error, we must have both **bias** and **variance** values ​​as small as possible. Therefore, to have a model that generalizes well, both values ​​must be small.\n",
    "\n",
    "+ **generalization error**: resulting from the sum of bias, variance and irreducible errors.\n",
    "    * May be approximated by **validation error**.\n",
    "+ **bias** (or bias): part of the generalization error that says, on average, how much $\\hat{y} \\neq y$, that is, it measures the error between the mean of the approximation and the true function. It is a measure of how well the model captures the behavior of the true function.\n",
    "    * A model has a high **bias** when, for example, it fails to capture the behavior of the generating model.\n",
    "+ **variance**: part of the generalization error that tells how inconsistent $\\hat{y}$ is (i.e., varies) across different training sets. Measures the variation in model performance when it fits different training sets.\n",
    "    * A model has high **variance** when, for example, it trains so well that it captures not only the significant patterns, but also the noise present in the data.\n",
    "+ **irreducible error**: is the lower bound of the generalization error. It is the error caused by elements beyond our control, such as noise in the samples.\n",
    "\n",
    "The challenge for having an **optimal model** lies in finding the ideal **capacity (or flexibility)** or **balance point**: point where the values ​​of **bias** and **variance* * are low.\n",
    "\n",
    "<img src=\"../img/erros_aproximação_estimaçãov2.png\" width=\"400\" height=\"400\">\n",
    "\n",
    "+ If we increase the flexibility of the model, its variance increases and its bias decreases.\n",
    "+ If we decrease the flexibility of the model, its variance decreases and its bias increases."
   ]
  },
  {
   "cell_type": "code",
   "execution_count": 1,
   "metadata": {},
   "outputs": [
    {
     "name": "stdout",
     "output_type": "stream",
     "text": [
      "Defaulting to user installation because normal site-packages is not writeable\n",
      "Collecting mlxtend\n",
      "  Downloading mlxtend-0.21.0-py2.py3-none-any.whl (1.3 MB)\n",
      "     |████████████████████████████████| 1.3 MB 7.3 MB/s            \n",
      "\u001b[?25hRequirement already satisfied: numpy>=1.16.2 in /home/joao/.local/lib/python3.6/site-packages (from mlxtend) (1.19.5)\n",
      "Collecting matplotlib>=3.0.0\n",
      "  Using cached matplotlib-3.3.4-cp36-cp36m-manylinux1_x86_64.whl (11.5 MB)\n",
      "Requirement already satisfied: pandas>=0.24.2 in /home/joao/.local/lib/python3.6/site-packages (from mlxtend) (1.1.5)\n",
      "Collecting mlxtend\n",
      "  Downloading mlxtend-0.20.0-py2.py3-none-any.whl (1.3 MB)\n",
      "     |████████████████████████████████| 1.3 MB 35.1 MB/s            \n",
      "\u001b[?25h  Downloading mlxtend-0.19.0-py2.py3-none-any.whl (1.3 MB)\n",
      "     |████████████████████████████████| 1.3 MB 61.7 MB/s            \n",
      "\u001b[?25hRequirement already satisfied: setuptools in /home/joao/.local/lib/python3.6/site-packages (from mlxtend) (59.6.0)\n",
      "Requirement already satisfied: joblib>=0.13.2 in /home/joao/.local/lib/python3.6/site-packages (from mlxtend) (1.1.0)\n",
      "Requirement already satisfied: scipy>=1.2.1 in /home/joao/.local/lib/python3.6/site-packages (from mlxtend) (1.5.4)\n",
      "Requirement already satisfied: scikit-learn>=0.20.3 in /home/joao/.local/lib/python3.6/site-packages (from mlxtend) (0.24.2)\n",
      "Requirement already satisfied: cycler>=0.10 in /home/joao/.local/lib/python3.6/site-packages (from matplotlib>=3.0.0->mlxtend) (0.11.0)\n",
      "Requirement already satisfied: python-dateutil>=2.1 in /home/joao/.local/lib/python3.6/site-packages (from matplotlib>=3.0.0->mlxtend) (2.8.2)\n",
      "Requirement already satisfied: pyparsing!=2.0.4,!=2.1.2,!=2.1.6,>=2.0.3 in /home/joao/.local/lib/python3.6/site-packages (from matplotlib>=3.0.0->mlxtend) (3.0.9)\n",
      "Collecting kiwisolver>=1.0.1\n",
      "  Using cached kiwisolver-1.3.1-cp36-cp36m-manylinux1_x86_64.whl (1.1 MB)\n",
      "Requirement already satisfied: pillow>=6.2.0 in /home/joao/.local/lib/python3.6/site-packages (from matplotlib>=3.0.0->mlxtend) (8.4.0)\n",
      "Requirement already satisfied: pytz>=2017.2 in /usr/lib/python3/dist-packages (from pandas>=0.24.2->mlxtend) (2018.3)\n",
      "Requirement already satisfied: threadpoolctl>=2.0.0 in /home/joao/.local/lib/python3.6/site-packages (from scikit-learn>=0.20.3->mlxtend) (3.1.0)\n",
      "Requirement already satisfied: six>=1.5 in /usr/lib/python3/dist-packages (from python-dateutil>=2.1->matplotlib>=3.0.0->mlxtend) (1.11.0)\n",
      "Installing collected packages: kiwisolver, matplotlib, mlxtend\n",
      "Successfully installed kiwisolver-1.3.1 matplotlib-3.3.4 mlxtend-0.19.0\n"
     ]
    }
   ],
   "source": [
    "# Import all the necessary libraries.\n",
    "import numpy as np\n",
    "import matplotlib.pyplot as plt\n",
    "from sklearn.preprocessing import PolynomialFeatures\n",
    "from sklearn.linear_model import LinearRegression\n",
    "from sklearn.preprocessing import StandardScaler\n",
    "from sklearn.pipeline import Pipeline\n",
    "from sklearn.metrics import mean_squared_error\n",
    "from sklearn.model_selection import train_test_split\n",
    "#!pip3 install mlxtend\n",
    "from mlxtend.evaluate import bias_variance_decomp"
   ]
  },
  {
   "cell_type": "code",
   "execution_count": 3,
   "metadata": {},
   "outputs": [],
   "source": [
    "# Reset the pseudo random number generator so that the results are reproducible.\n",
    "seed = 1012019\n",
    "np.random.seed(seed)"
   ]
  },
  {
   "cell_type": "code",
   "execution_count": 4,
   "metadata": {},
   "outputs": [],
   "source": [
    "def genTargetFunction(N):\n",
    "    # Attribute.\n",
    "    x1 = np.linspace(-3, 3, N).reshape(N, 1)\n",
    "    # Create target function.\n",
    "    y = 1.0 + x1 + x1**2\n",
    "    # Noisy version of the target function.\n",
    "    y_noisy = y + np.random.randn(N, 1)\n",
    "    return x1, y_noisy, y"
   ]
  },
  {
   "cell_type": "code",
   "execution_count": 5,
   "metadata": {},
   "outputs": [],
   "source": [
    "# Number of examples.\n",
    "N = 200\n",
    "\n",
    "# Generate dataset.\n",
    "x1, y_noisy, y = genTargetFunction(N)\n",
    "\n",
    "# Split dataset.\n",
    "X_train, X_test, y_train, y_test = train_test_split(x1, y_noisy, test_size=0.5, random_state=seed)"
   ]
  },
  {
   "cell_type": "code",
   "execution_count": 6,
   "metadata": {},
   "outputs": [
    {
     "data": {
      "image/png": "[encoded data removed]",
      "text/plain": [
       "<matplotlib.figure.Figure at 0x7f189c7194a8>"
      ]
     },
     "metadata": {
      "needs_background": "light"
     },
     "output_type": "display_data"
    }
   ],
   "source": [
    "plt.plot(x1,y_noisy,'.', label='Noisy')\n",
    "plt.plot(x1,y,label='True')\n",
    "plt.grid()\n",
    "plt.legend()\n",
    "plt.xlabel('x')\n",
    "plt.ylabel('y')\n",
    "plt.show()"
   ]
  },
  {
   "cell_type": "code",
   "execution_count": 14,
   "metadata": {},
   "outputs": [],
   "source": [
    "# Polinomial degrees to be tested.\n",
    "degrees = [1, 2, 3, 4, 5, 6, 7, 8, 9, 10]\n",
    "\n",
    "# Include column of ones once the target function has a bias.\n",
    "include_bias = True\n",
    "\n",
    "mse = np.zeros((len(degrees),))\n",
    "var = np.zeros((len(degrees),))\n",
    "bias = np.zeros((len(degrees),))\n",
    "\n",
    "# Iterate over different polynomial degrees.\n",
    "for i in range(len(degrees)):\n",
    "    \n",
    "        # Instantiate a polynomial with the given degree.\n",
    "        poly = PolynomialFeatures(degree=degrees[i], include_bias=include_bias)\n",
    "        # Instantiate a scaler that will standardize the features.\n",
    "        scaler = StandardScaler()\n",
    "        # Instantiate a linear regressor.\n",
    "        reg = LinearRegression()\n",
    "\n",
    "        # Create a pipeline of actions.\n",
    "        model = Pipeline([\n",
    "            (\"poly\", poly),\n",
    "            (\"scaler\", scaler),\n",
    "            (\"reg\", reg),\n",
    "        ])\n",
    "    \n",
    "        # estimate bias and variance\n",
    "        mse[i], bias[i], var[i] = bias_variance_decomp(model, X_train, y_train.ravel(), X_test, y_test.ravel(), loss='mse', num_rounds=200, random_seed=seed)        "
   ]
  },
  {
   "cell_type": "code",
   "execution_count": 15,
   "metadata": {},
   "outputs": [
    {
     "data": {
      "image/png": "[encoded data removed]",
      "text/plain": [
       "<matplotlib.figure.Figure at 0x7f185d381dd8>"
      ]
     },
     "metadata": {
      "needs_background": "light"
     },
     "output_type": "display_data"
    }
   ],
   "source": [
    "fig = plt.figure()\n",
    "\n",
    "plt.plot(degrees, mse, label='MSE')\n",
    "plt.plot(degrees, bias, label='bias')\n",
    "plt.plot(degrees, var, label='var')\n",
    "plt.yscale('log')\n",
    "plt.legend()\n",
    "plt.xlabel('Complexity (polynomial order)', fontsize=14)\n",
    "plt.ylabel('Error', fontsize=14)\n",
    "plt.grid()\n",
    "\n",
    "if(0):\n",
    "    left, bottom, width, height = [0.3, 0.55, 0.4, 0.3]\n",
    "    ax3 = fig.add_axes([left, bottom, width, height])\n",
    "    plt.plot(degrees, mse, label='MSE')\n",
    "    plt.plot(degrees, bias, label='bias')\n",
    "    plt.plot(degrees, var, label='var')\n",
    "    ax3.set_ylim(-0.5, 2)\n",
    "    ax3.set_xlim(1, 10)\n",
    "\n",
    "plt.show()"
   ]
  },
  {
   "cell_type": "markdown",
   "metadata": {},
   "source": [
    "### Referências\n",
    "\n",
    "[1] https://dustinstansbury.github.io/theclevermachine/bias-variance-tradeoff"
   ]
  },
  {
   "cell_type": "code",
   "execution_count": null,
   "metadata": {},
   "outputs": [],
   "source": []
  }
 ],
 "metadata": {
  "kernelspec": {
   "display_name": "Python 3",
   "language": "python",
   "name": "python3"
  },
  "language_info": {
   "codemirror_mode": {
    "name": "ipython",
    "version": 3
   },
   "file_extension": ".py",
   "mimetype": "text/x-python",
   "name": "python",
   "nbconvert_exporter": "python",
   "pygments_lexer": "ipython3",
   "version": "3.6.9"
  }
 },
 "nbformat": 4,
 "nbformat_minor": 2
}
