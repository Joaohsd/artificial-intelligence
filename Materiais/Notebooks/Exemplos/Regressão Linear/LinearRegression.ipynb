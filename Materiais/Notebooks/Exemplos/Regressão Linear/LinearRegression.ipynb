{
 "cells": [
  {
   "cell_type": "code",
   "execution_count": 20,
   "id": "3f3d8d53",
   "metadata": {},
   "outputs": [],
   "source": [
    "# Import libraries to help the process\n",
    "import numpy as np\n",
    "import matplotlib.pyplot as plt\n",
    "\n",
    "# Import the Linear regression module from scikit-learn library\n",
    "from sklearn.linear_model import LinearRegression"
   ]
  },
  {
   "cell_type": "code",
   "execution_count": 21,
   "id": "b45f51ca",
   "metadata": {},
   "outputs": [],
   "source": [
    "# Reset the random\n",
    "np.random.seed(1234)"
   ]
  },
  {
   "cell_type": "code",
   "execution_count": 22,
   "id": "5cd11c90",
   "metadata": {},
   "outputs": [],
   "source": [
    "# Generate input/output (features/labels) values\n",
    "N = 100 # Number of observations done\n",
    "\n",
    "# True function\n",
    "x = 2.0 * np.random.rand(N, 1)\n",
    "y = 4.0 + 3.0 * x\n",
    "\n",
    "# Function with noisy\n",
    "y_noisy = y + np.random.randn(N,1)"
   ]
  },
  {
   "cell_type": "code",
   "execution_count": 23,
   "id": "9f58388f",
   "metadata": {
    "scrolled": true
   },
   "outputs": [
    {
     "data": {
      "image/png": "[encoded data removed]",
      "text/plain": [
       "<matplotlib.figure.Figure at 0x7f4020919fd0>"
      ]
     },
     "metadata": {
      "needs_background": "light"
     },
     "output_type": "display_data"
    }
   ],
   "source": [
    "# Plot pair example/label\n",
    "plt.plot(x, y_noisy, '.', label = \"Noisy Function\")\n",
    "plt.plot(x, y, '.', label = \"True Function\")\n",
    "plt.xlabel('x')\n",
    "plt.ylabel('y')\n",
    "plt.grid()\n",
    "plt.legend()\n",
    "plt.show()"
   ]
  },
  {
   "cell_type": "markdown",
   "id": "1f2941c0",
   "metadata": {},
   "source": [
    "# *Manual Solution*"
   ]
  },
  {
   "cell_type": "code",
   "execution_count": 24,
   "id": "4a4aefb7",
   "metadata": {},
   "outputs": [
    {
     "name": "stdout",
     "output_type": "stream",
     "text": [
      "a0: 4.0763\n",
      "a1: 2.9413\n"
     ]
    }
   ],
   "source": [
    "# Solve by applying the Least-Square method\n",
    "# Join two vector vector to add bias element (a0)\n",
    "X_b = np.c_[np.ones((N, 1)), x]\n",
    "a_optimum = np.linalg.inv(X_b.T.dot(X_b)).dot(X_b.T).dot(y_noisy)\n",
    "\n",
    "# Printing values of coefficients\n",
    "print('a0: %.4f' % (a_optimum[0][0]))\n",
    "print('a1: %.4f' % (a_optimum[1][0]))"
   ]
  },
  {
   "cell_type": "markdown",
   "id": "ce6f92da",
   "metadata": {},
   "source": [
    "## *Mean Squared Error* "
   ]
  },
  {
   "cell_type": "code",
   "execution_count": 25,
   "id": "7e853bb7",
   "metadata": {},
   "outputs": [
    {
     "name": "stdout",
     "output_type": "stream",
     "text": [
      "MSE: 0.9273\n"
     ]
    }
   ],
   "source": [
    "yhat = X_b.dot(a_optimum)\n",
    "\n",
    "Je_optimum = (1.0/N)*np.sum(np.power((y_noisy - yhat), 2))\n",
    "\n",
    "print('MSE: %.4f' % (Je_optimum))"
   ]
  },
  {
   "cell_type": "markdown",
   "id": "8d68ccf3",
   "metadata": {},
   "source": [
    "# *Scikit-learn's Solution*"
   ]
  },
  {
   "cell_type": "code",
   "execution_count": 27,
   "id": "ee844805",
   "metadata": {},
   "outputs": [
    {
     "name": "stdout",
     "output_type": "stream",
     "text": [
      "a0: 4.0763\n",
      "a1: 2.9413\n"
     ]
    }
   ],
   "source": [
    "lin_reg = LinearRegression()\n",
    "\n",
    "# Training the model\n",
    "# The fit method already add the linear coefficient column (a0)\n",
    "lin_reg.fit(x, y_noisy)\n",
    "\n",
    "# Printing values of coefficients\n",
    "print('a0: %.4f' % (lin_reg.intercept_[0]))\n",
    "print('a1: %.4f' % (lin_reg.coef_[0][0]))"
   ]
  }
 ],
 "metadata": {
  "kernelspec": {
   "display_name": "Python 3",
   "language": "python",
   "name": "python3"
  },
  "language_info": {
   "codemirror_mode": {
    "name": "ipython",
    "version": 3
   },
   "file_extension": ".py",
   "mimetype": "text/x-python",
   "name": "python",
   "nbconvert_exporter": "python",
   "pygments_lexer": "ipython3",
   "version": "3.6.9"
  }
 },
 "nbformat": 4,
 "nbformat_minor": 5
}
