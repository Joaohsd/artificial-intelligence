{
 "cells": [
  {
   "cell_type": "markdown",
   "id": "5af6e8d1",
   "metadata": {},
   "source": [
    "# **Deep Learning**"
   ]
  },
  {
   "cell_type": "markdown",
   "id": "795a4e34",
   "metadata": {},
   "source": [
    "A **aprendizagem profunda**, do inglês **Deep Learning** é um ramo de aprendizado de máquina baseado em um conjunto de algoritmos que tentam modelar abstrações de alto nível de dados usando um grafo profundo com várias camadas de processamento, compostas de várias transformações lineares e não lineares."
   ]
  },
  {
   "cell_type": "markdown",
   "id": "fb856ef9",
   "metadata": {},
   "source": [
    "<center>\n",
    "    <img src=\"img/AI-ML-DL.png\" alt=\"Drawing\" style=\"width: 450px;height: 426px\"/>\n",
    "</center>"
   ]
  },
  {
   "cell_type": "markdown",
   "id": "8838a4b2",
   "metadata": {},
   "source": [
    "## **Deep Learning e o cérebro humano**"
   ]
  },
  {
   "cell_type": "markdown",
   "id": "3a33fb10",
   "metadata": {},
   "source": [
    "Para realizar o aprendizado dessa maneira, o conceito foi inspirado na forma como os humanos aprendem, ou seja, a partir da **rede neural humana**. *Esta é composta de neurônios, os quais se comunicam através de sinapses, que é a região onde dois neurônios entram em contato. Os impulsos recebidos por um neurônio A, em um determinado momento, são processados, e atingindo um dado inicio de ação, o neurônio A dispara, produzindo uma substância que flui para o axônio, que pode estar conectado a um dendrito de um outro neurônio B. O impulso pode diminuir ou aumentar a polaridade da membrana pós-sináptica, inibindo ou excitando a geração dos pulsos no neurônio B. Este processo depende de vários fatores, como a geometria da sinapse e o tipo de neurotransmissor.*\n",
    "\n",
    "Por conseguinte, surgiu o conceito de **Redes Neurais Artificais (RNAs)** ou, do inglês, **Artificial Neural Networks (ANNs)**. Tal método de inteligência artificial tem um funcionamento com princípio baseado no cérebro humano, como dito anteriormente. Dessa forma, a rede neural cria um sistema adaptativo que os computadores usam para aprender com os erros e se aprimorar continuamente. As redes neurais artificiais tentam solucionar problemas complicados, como resumir documentos ou reconhecer rostos com grande precisão.\n",
    "\n",
    "A partir desses conceitos, novas definições surgiram acerca dos estudos realizados. Abaixo uma imagem contendo uma breve representação de uma rede neural:"
   ]
  },
  {
   "cell_type": "markdown",
   "id": "e914826d",
   "metadata": {},
   "source": [
    "<center>\n",
    "    <img src=\"img/redeNeural.png\" alt=\"Drawing\" style=\"width: 653px;height: 213px\"/>\n",
    "</center>"
   ]
  },
  {
   "cell_type": "markdown",
   "id": "8d096f79",
   "metadata": {},
   "source": [
    "## **Artificial Neural Networks (ANN) vs Deep Neural Networks (DNN)**"
   ]
  },
  {
   "cell_type": "markdown",
   "id": "ad9537a5",
   "metadata": {},
   "source": [
    "Em muitas abordagens, a diferença sobre esses termos é muito discutida no cenário atual, sendo bem compreendida pela própia definição dos termos e a estrutura apresentada pela rede neural implementada. **ANN (Artificial Neural Network)** é um termo muito amplo que engloba qualquer forma de modelo de Deep Learning. Todos os outros que você listou são algumas formas de ANN. As ANNs podem ser rasas ou profundas. Eles são chamados de rasos quando possuem apenas **uma camada oculta** (ou seja, **uma camada entre entrada e saída**). Eles são chamados de **profundos** quando as **camadas ocultas** são **mais de uma** (o que as pessoas implementam na maioria das vezes). É daí que vem a expressão **DNN (Deep Neural Network)**."
   ]
  },
  {
   "cell_type": "markdown",
   "id": "0098a7b4",
   "metadata": {},
   "source": [
    "## **Rede Neural e seus componentes**"
   ]
  },
  {
   "cell_type": "markdown",
   "id": "60c86ecf",
   "metadata": {},
   "source": [
    "Para compreender melhor tal conceito, vamos discutir um pouco sobre os conceitos básicos de uma rede neural, desde um único neuron até uma rede neural profunda (várias camadas ocultas)."
   ]
  },
  {
   "cell_type": "markdown",
   "id": "f0ea74b4",
   "metadata": {},
   "source": [
    "### **O que é um neuron?**"
   ]
  },
  {
   "cell_type": "markdown",
   "id": "5eed0800",
   "metadata": {},
   "source": [
    "Neurons em modelos de aprendizado profundo são nós pelos quais os dados e os cálculos fluem."
   ]
  },
  {
   "cell_type": "markdown",
   "id": "ac8333cb",
   "metadata": {},
   "source": [
    "### **Como funciona um neuron?**"
   ]
  },
  {
   "cell_type": "markdown",
   "id": "086a0a18",
   "metadata": {},
   "source": [
    "Neurons trabalham da seguinte forma:\n",
    "\n",
    "*   Eles recebem um ou mais sinais de entrada. Esses sinais de entrada podem vir do conjunto de dados brutos ou de neurônios posicionados em uma camada anterior da rede neural.\n",
    "*   Eles fazem alguns cálculos.\n",
    "*   Eles enviam alguns sinais de saída para neurônios mais profundos na rede neural por meio de uma sinapse.\n",
    "\n",
    "A imagem abaixo deixa explícito o que foi citado acima:\n",
    "\n",
    "<center>\n",
    "    <img src=\"img/neuron.png\" alt=\"Drawing\" style=\"width: 600px;height: 270px\"/>\n",
    "</center>"
   ]
  },
  {
   "cell_type": "markdown",
   "id": "3e72a3f8",
   "metadata": {},
   "source": [
    "Para compreender melhor cada uma das siglas presentes no desenho acima, vamos discuti-los em seguida:\n",
    "\n",
    "Como você pode ver, os neurônios em um modelo de aprendizado profundo são capazes de ter sinapses que se conectam a mais de um neurônio na camada anterior. Cada sinapse tem um peso associado, que afeta a importância do neurônio anterior na rede neural geral.\n",
    "\n",
    "Os pesos são um tópico muito importante no campo de aprendizado profundo, porque ajustar os pesos de um modelo é a principal maneira pela qual os modelos de aprendizado profundo são treinados. Você verá isso na prática mais tarde, quando construirmos nossas primeiras redes neurais do zero.\n",
    "\n",
    "Uma vez que um neurônio recebe suas entradas dos neurônios na camada anterior do modelo, ele soma cada sinal multiplicado por seu peso correspondente e os passa para uma função de ativação, como esta:\n",
    "\n",
    "<center>\n",
    "    <img src=\"img/neuronDetalhado.png\" alt=\"Drawing\" style=\"width: 600px;height: 300px\"/>\n",
    "</center>\n",
    "\n",
    "A função de ativação calcula o valor de saída para o neurônio. Esse valor de saída é então passado para a próxima camada da rede neural por meio de outra sinapse. Ainda assim, de forma mais explícita, um neuron pode possuir o ***bias***, o qual é uma constante adicionada ao somatório realizado pelo neuron. A arquitetura passa a ficar da seguinte forma:\n",
    "\n",
    "<center>\n",
    "    <img src=\"img/neuronBias.png\" alt=\"Drawing\" style=\"width: 303px;height: 317px\"/>\n",
    "</center>"
   ]
  }
 ],
 "metadata": {
  "kernelspec": {
   "display_name": "Python 3 (ipykernel)",
   "language": "python",
   "name": "python3"
  },
  "language_info": {
   "codemirror_mode": {
    "name": "ipython",
    "version": 3
   },
   "file_extension": ".py",
   "mimetype": "text/x-python",
   "name": "python",
   "nbconvert_exporter": "python",
   "pygments_lexer": "ipython3",
   "version": "3.8.10"
  }
 },
 "nbformat": 4,
 "nbformat_minor": 5
}
