{
 "cells": [
  {
   "cell_type": "markdown",
   "metadata": {
    "id": "-VHz7JkM0J8Y"
   },
   "source": [
    "# **O que é Machine Learning?**"
   ]
  },
  {
   "cell_type": "markdown",
   "metadata": {
    "id": "dV2bItc50jW8"
   },
   "source": [
    "**Aprendizado de máquina** é a ciência (e a arte) da programação de computadores de modo que eles possam **aprender** com os **dados**."
   ]
  },
  {
   "cell_type": "markdown",
   "metadata": {
    "id": "webASGxYzoM3"
   },
   "source": [
    "# **Para que serve o Machine Learning?**"
   ]
  },
  {
   "cell_type": "markdown",
   "metadata": {
    "id": "yFS8r7Xl1EIj"
   },
   "source": [
    "Entre suas várias utilidades, vale ressaltar:\n",
    "\n",
    "\n",
    "*   Analisar dados e prever um determinado valor;\n",
    "    *   A regressão é um termo utilizado para quando tentamos encontrar uma relação entre variáveis. Essa é uma típica tarefa de aprendizado supervisionado, o qual deseja-se estimar o valor, dada uma entrada de uma característica (geralmente, existem varias features de entrada e, as vezes, diversos valores de saídas). Os rótulos são fornecidos na etapa de treinamento.\n",
    "*   Processamento de linguagem natural;\n",
    "*   Detecção de anomalias;\n",
    "*   Análise de padrões (classificação e clusterização);\n",
    "    *   A **classificação** é uma típica tarefa de aprendizado supervisionado, cujo o objetivo é classificar objetos baseado nas features e rótulos fornecidos.\n",
    "    *   A **clusterização** é um método de segmentação de dados que partilham tendências e padrões semelhantes. Este tipo de estudo não tem uma variável dependente. É uma típica tarefa de aprendizado não supervisionado, o qual o algoritmo identifica as características semelhantes no conjunto de dados e realiza a segmentação destes em grupos com características semelhantes.\n",
    "*   Criar um bot inteligente para um jogo;\n",
    "\n",
    "\n",
    "\n"
   ]
  },
  {
   "cell_type": "markdown",
   "metadata": {
    "id": "8btc6YaMIMZ3"
   },
   "source": [
    "# **Tipos de Aprendizados**"
   ]
  },
  {
   "cell_type": "markdown",
   "metadata": {
    "id": "dVaZWocPIjDo"
   },
   "source": [
    "Os aprendizados podem ser dividos conforme alguns critérios, os quais é possível combiná-los, dependendo do problema a ser solucionado:\n",
    "\n",
    "*   Ser ou não treinado com supervisão humana (supervisionado, não supervisionado, semi-supervisionado e aprendizado por reforço);\n",
    "*   Aprender gradativamente com os dados em tempo real (aprendizado online x aprendizado em batch);\n",
    "*   Se funcionam comparando dados antigos com dados novos ou se detectam padrões em dados de treinamento (aprendizado baseado em instâncias vs aprendizado baseado em modelo)\n",
    "\n",
    "Para a primeira possibilidade, o link abaixo traz uma explicação para tal:\n",
    "\n",
    "http://www2.decom.ufop.br/terralab/tipos-de-aprendizado-de-maquina-e-algumas-aplicacoes/\n",
    "\n"
   ]
  },
  {
   "cell_type": "markdown",
   "metadata": {
    "id": "pjE4A8a7PT2N"
   },
   "source": [
    "## **Aprendizado Supervisionado**"
   ]
  },
  {
   "cell_type": "markdown",
   "metadata": {
    "id": "PjaUQ2M2PSFw"
   },
   "source": [
    "O **aprendizado supervisionado** é um paradigma de aprendizado de máquina, que tem como objetivo adquirir informações de relacionamento entre entrada e saída de um sistema, baseado em um conjunto de amostras de treinamento. \n",
    "\n",
    "Um algoritmo de aprendizado supervisionado analisa os dados de treino e produz uma função inferida que será utilizada para mapear novos exemplos. Para deixar menos abstrato, a classificação de emails como Spam ou não Spam são utilizam técnicas de aprendizado supervisionado.\n",
    "\n",
    "<center><img src=\"img/exemploClassificacao.png?raw=1\" alt=\"Drawing\" style=\"width: 600px;height: 400px\"/></center>"
   ]
  },
  {
   "cell_type": "markdown",
   "metadata": {
    "id": "9blf-0WcTv9R"
   },
   "source": [
    "### **Classificação**"
   ]
  },
  {
   "cell_type": "markdown",
   "metadata": {
    "id": "c_28NaelUeNC"
   },
   "source": [
    "A classificação é o processo de categorizar um determinado conjunto de dados em classes. No exemplo da classificação de e-mails como spam, teríamos um exemplo de classificação binária, no qual o modelo através dos dados fornecidos, precisaria gerar como resposta se o e-mail é spam ou não.\n",
    "\n",
    "Alguns dos algoritmos mais famosos são:\n",
    "\n",
    "*    KNN\n",
    "*    Naive Bayes\n",
    "*    Logistic Regression\n",
    "*    Support Vector Machines\n",
    "*    Decision Trees"
   ]
  },
  {
   "cell_type": "markdown",
   "metadata": {
    "id": "YusdYbROUH6s"
   },
   "source": [
    "### **Regressão**"
   ]
  },
  {
   "cell_type": "markdown",
   "metadata": {
    "id": "LrsQApO1WwhO"
   },
   "source": [
    "Os modelos de regressão são utilizados quando queremos prever valores, por exemplo, prever o preço de uma casa ou o número de produtos que serão vendidos em determinado mês.\n",
    "Alguns modelos são famosos para realizar regressão, são eles:\n",
    "\n",
    "*    Linear Regression\n",
    "*    Polynomial Regression\n",
    "*    Logistic Regression\n",
    "*    Principal Components Regression (PCR)"
   ]
  },
  {
   "cell_type": "markdown",
   "metadata": {
    "id": "mwrHMlDIZYRj"
   },
   "source": [
    "## **Aprendizado Não Supervisionado**"
   ]
  },
  {
   "cell_type": "markdown",
   "metadata": {
    "id": "zJkhMHWjZgs3"
   },
   "source": [
    "O aprendizado não supervisionado consiste em treinar uma máquina a partir de dados que não estão rotulados e/ou classificados. Os algoritmos que fazem isso buscam descobrir padrões ocultos que agrupam as informações de acordo com semelhanças ou diferenças, por exemplo.\n",
    "\n",
    "Para que isso fique mais claro, vamos imaginar um algoritmo de aprendizado não supervisionado, que receba uma imagem contendo cachorros e gatos.\n",
    "\n",
    "<center>\n",
    "    <img src=\"img/exemploAgrupamento.jpg?raw=1\" alt=\"Drawing\" style=\"width: 650px;height: 300px\"/>\n",
    "</center>\n",
    "\n",
    "Ao receber essa imagem nada se sabe sobre as características que cada animal possui, ou seja, não é possível categorizá-los. Porém, esse algoritmo será responsável por descobrir semelhanças, padrões e/ou diferenças que permitam diferenciar cães e gatos.\n",
    "\n",
    "No exemplo citado anteriormente utilizamos uma técnica chamada de agrupamento (**Clustering**), porém existem outras técnicas como regras de associação (**Association Rules**) e redução de dimensionalidade (**Dimensionality Reduction**). Falaremos um pouco de cada uma delas abaixo."
   ]
  },
  {
   "cell_type": "markdown",
   "metadata": {
    "id": "NjVFk4s2AOIG"
   },
   "source": [
    "### **Agrupamento**"
   ]
  },
  {
   "cell_type": "markdown",
   "metadata": {
    "id": "BgXZ_oxAASOt"
   },
   "source": [
    "Essa técnica consiste em agrupar os dados com base nas suas semelhanças ou diferenças. Dessa forma, os dados não são rotulados e o algoritmo aprende sem uma supervisão humana. Esses algoritmos de agrupamento ainda podem ser subdivididos em **agrupamentos exclusivos**, **sobrepostos**, **hierárquicos** e **probabilísticos**."
   ]
  },
  {
   "cell_type": "markdown",
   "metadata": {
    "id": "7-4UtmAyAtVP"
   },
   "source": [
    "### **Aprendizado de regras por associação**"
   ]
  },
  {
   "cell_type": "markdown",
   "metadata": {
    "id": "G4Jhq6U1A2to"
   },
   "source": [
    "Ao usar as regras de associação, buscamos descobrir relações que descrevem grandes porções dos dados. A associação é muito utilizada em análises de cestas de compras, no qual a empresa pode tentar entender relações de preferências de compras entre os produtos.\n",
    "Alguns dos algoritmos mais famosos são:\n",
    "\n",
    "*   Apriori;\n",
    "*   Eclat;\n",
    "*   FP-Growth;\n",
    "\n"
   ]
  },
  {
   "cell_type": "markdown",
   "metadata": {
    "id": "5SfWKOlQBaWp"
   },
   "source": [
    "### **Redução de dimensionalidade**"
   ]
  },
  {
   "cell_type": "markdown",
   "metadata": {
    "id": "7Nec0zp2BlSL"
   },
   "source": [
    "Existem casos nos quais ao estudar um conjunto de dados, podemos encontrar nele um grande número de recursos (dimensões). Por mais que existam situações onde isso é positivo, o excesso pode impactar o desempenho dos algoritmos causando, por exemplo, o overfitting. \n",
    "\n",
    "Utilizando a técnica de redução de dimensionalidade, será feita uma redução no número de recursos, de forma que torne-os gerenciáveis por parte do modelo, além de preservar a integridade dos dados.\n",
    "E para executar essa tarefa existem algumas técnicas que podem ser utilizadas, como: **Missing Values Ratio, Low Variance Filter, High Correlation Filter, Random Forests / Ensemble Trees, Principal Component Analysis (PCA), Backward Feature Elimination e Forward Feature Construction**."
   ]
  },
  {
   "cell_type": "markdown",
   "metadata": {},
   "source": [
    "## **Aprendizado Semissupervisionado**"
   ]
  },
  {
   "cell_type": "markdown",
   "metadata": {},
   "source": [
    "A rotulação dos dados custa tempo e dinheiro. Dessa forma, é muito comum trabalharmos com dados rotulados e não rotulados. Isso é o que chamamos de aprendizado semissupervisionado, o qual temos dados pré-definidos em nosso sistema, mas, por conta da quantidade, alguns não estão. Um exemplo clássico é o Google Fotos, o qual define que uma pessoa está presente em múltiplas fotos (clusterização), mas você precisa dar um rótulo a ela, informando ao algoritmo quem é aquela pessoa."
   ]
  },
  {
   "cell_type": "markdown",
   "metadata": {},
   "source": [
    "## **Aprendizado por reforço**"
   ]
  },
  {
   "cell_type": "markdown",
   "metadata": {},
   "source": [
    "Para entendermos como funciona o aprendizado por reforço, devemos analisar a seguinte imagem:\n",
    "\n",
    "<center><img src=\"img/modeloRL.png\" alt=\"Drawing\" style=\"width: 550px;height: 300px\"/></center>\n",
    "\n",
    "O primeiro passo é definir os elementos presentes na imagem, o agente (**Agent**) é aquele que toma as decisões com base nas recompensas e punições, esse agente pode realizar uma ação (**Action**) que irá variar de acordo com o contexto. O ambiente (**Environment**) é o mundo físico ou virtual em que o agente opera, a recompensa (**reward**) é o **feedback do ambiente baseado na ação tomada e o estado (**state**) é a situação atual do agente.\n",
    "\n",
    "<center><img src=\"img/exemploRL.png\" alt=\"Drawing\" style=\"width: 400px;height: 300px\"/></center>\n",
    "\n",
    "A imagem acima demonstra um exemplo de como o aprendizado por reforço pode ser utilizado. Nesse caso, o robô é o nosso agente e ele está situado no estado inicial do nosso **ambiente**, que é representado pelo **“labirinto”** que o robô terá de percorrer. Desta forma, o **objetivo** é chegar ao **diamante** evitando os **obstáculos (fogueiras)**. \n",
    "\n",
    "Definido o objetivo, o robô deve buscar pelo melhor caminho possível para chegar até o diamante. Dessa forma, a cada ação do robô, ele poderá caminhar em uma determinada direção, caso ele escolha corretamente, ele irá inserir pesos diferentes, para diferentes respostas. Com isso, espera-se que ao final o robô consiga realizar seu objetivo de forma que obtenha a maior recompensa cumulativa."
   ]
  },
  {
   "cell_type": "markdown",
   "metadata": {},
   "source": [
    "#### **Além da classificação dos aprendizados quanto a supervisão, também é feita uma análise acerca de como ocorre o treinamento. Dessa forma, define-se se o algoritmo aprende ou não em tempo real.**"
   ]
  },
  {
   "cell_type": "markdown",
   "metadata": {},
   "source": [
    "## Aprendizado em batch (por ciclo)"
   ]
  },
  {
   "cell_type": "markdown",
   "metadata": {},
   "source": [
    "O **aprendizado em batch** é feito de maneira offline. Dessa forma, uma vez que o modelo é treinado, este é feito baseado em um determinado **dataset**. Caso deseja-se que o sistema tenha acesso a um novo conjunto de dados (como um novo tipo de spam no caso do email), este deve ser treinado novamente com o conjunto de dados novos e os antigos, que foram utilizados.\n",
    "\n",
    "Tal forma de aprendizado consome uma enorme quantidade de processamento e tempo, uma vez que o modelo é treinado com todos os dados disponíveis. De certa forma, o sistema que utiliza o modelo de aprendizado em batch pode se adaptar às mudanças sendo treinado novamente.\n",
    "\n",
    "Caso a implementação real necessite de uma constante atualização dos dados do conjunto, tal forma de treinamento, talvez, não seja a mais viável. Isso se da, pois a quantidade de dados para treinamento cresce a medida que novos dados são disponibilizados. Como tal modo não aprende em tempo real, é recomendado que o modelo seja treinado semanalmente, ao invés de diariamente, visto que o consumo de processamento e o tempo para treinamento podem ser um ponto de conflito."
   ]
  },
  {
   "cell_type": "markdown",
   "metadata": {},
   "source": [
    "## **Aprendizado Online (Incremental)**"
   ]
  },
  {
   "cell_type": "markdown",
   "metadata": {},
   "source": [
    "O **aprendizado online** é feito incrementalmente, ou seja, a medida que novos dados são disponibilizados, este aprende em tempo real. De certa forma, o modelo é, previamente, treinado com um conjunto de dados menor (suficiente para que se obtenha um desempenho ideal). Tal forma de aprendizado é possível, pois as instâncias dos dados são fornecidas em sequência, individual ou em pequenos grupos, chamados de mini-batches.\n",
    "\n",
    "Este modelo de aprendizado é indicado quando a entrada de dados no sistema é contínua e sua resposta deve ser instantânea as mudanças. Isso faz com que aprendizado seja realizado constantemente."
   ]
  }
 ],
 "metadata": {
  "colab": {
   "collapsed_sections": [],
   "provenance": []
  },
  "kernelspec": {
   "display_name": "Python 3 (ipykernel)",
   "language": "python",
   "name": "python3"
  },
  "language_info": {
   "codemirror_mode": {
    "name": "ipython",
    "version": 3
   },
   "file_extension": ".py",
   "mimetype": "text/x-python",
   "name": "python",
   "nbconvert_exporter": "python",
   "pygments_lexer": "ipython3",
   "version": "3.8.10"
  },
  "vscode": {
   "interpreter": {
    "hash": "916dbcbb3f70747c44a77c7bcd40155683ae19c65e1c03b4aa3499c5328201f1"
   }
  }
 },
 "nbformat": 4,
 "nbformat_minor": 1
}
